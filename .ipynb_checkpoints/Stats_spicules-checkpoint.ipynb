{
 "cells": [
  {
   "cell_type": "code",
   "execution_count": 1,
   "metadata": {},
   "outputs": [],
   "source": [
    "import matplotlib.pyplot as plt\n",
    "from scipy.io import readsav\n",
    "import numpy as np\n",
    "import copy\n",
    "from helita.io import lp\n",
    "from astropy.io import fits\n",
    "import cv2\n",
    "from skimage.measure import label, regionprops\n",
    "from skimage.morphology import skeletonize, medial_axis"
   ]
  },
  {
   "cell_type": "code",
   "execution_count": 2,
   "metadata": {},
   "outputs": [],
   "source": [
    "dpath = '/mn/stornext/d11/lapalma/reduc/2017/2017-05-25/CHROMIS/crispex/09:12:00/'\n",
    "dpath_area = '/mn/stornext/d9/souvikb/K_means_results/savefiles/'\n",
    "dpath_cluster_fits= '/mn/stornext/d9/souvikb/K_means_results/'\n",
    "dpath_timesteps ='/mn/stornext/d11/lapalma/reduc/2017/2017-05-25/CHROMIS/calib_tseries/'"
   ]
  },
  {
   "cell_type": "code",
   "execution_count": 3,
   "metadata": {},
   "outputs": [
    {
     "name": "stderr",
     "output_type": "stream",
     "text": [
      "/astro/local/anaconda/lib/python3.7/site-packages/scipy/io/idl.py:469: UserWarning: Using experimental 64-bit array read\n",
      "  warnings.warn(\"Using experimental 64-bit array read\")\n"
     ]
    }
   ],
   "source": [
    "cluster_mask = fits.getdata(dpath_cluster_fits+'clusters_mask.fits',ext=0)# Reading the Cluster mask time series\n",
    "#Statistics computed from the previous analysis.\n",
    "stats_rbe = readsav(dpath_area+'RBE_full_stats.sav')\n",
    "labels = stats_rbe['labels_rbe']\n",
    "area = stats_rbe['area_rbe']\n",
    "life = stats_rbe['lifetime_rbe']\n",
    "lab_cube = stats_rbe['lab_full_rbe']\n",
    "#Reading the La Palma cubes##\n",
    "hdrH_im =lp.getheader(dpath+'crispex_6563_08:05:00_aligned_3950_2017-05-25T09:12:00_scans=0-424_rotated2iris.icube')\n",
    "hdrH_sp = lp.getheader(dpath+'crispex_6563_08:05:00_aligned_3950_2017-05-25T09:12:00_scans=0-424_rotated2iris_sp.icube')\n",
    "dimH_im = hdrH_im[0]\n",
    "dimH_sp = hdrH_sp[0]\n",
    "cubeH = lp.getdata(dpath+'crispex_6563_08:05:00_aligned_3950_2017-05-25T09:12:00_scans=0-424_rotated2iris.icube')\n",
    "cubeH = np.reshape(cubeH,[dimH_im[0],dimH_im[1],dimH_sp[1],dimH_sp[0]])\n",
    "time_sst = readsav(dpath_timesteps+'tseries_3950_2017-05-25T09:12:00_scans=0-424_calib.sav')\n",
    "time_sst=time_sst['time']"
   ]
  },
  {
   "cell_type": "code",
   "execution_count": 31,
   "metadata": {},
   "outputs": [
    {
     "data": {
      "text/plain": [
       "49.0"
      ]
     },
     "execution_count": 31,
     "metadata": {},
     "output_type": "execute_result"
    }
   ],
   "source": [
    "#skeletonize the cluster mask in 3D\n",
    "#skel_3d = skeletonize(cluster_mask,method='lee')"
   ]
  },
  {
   "cell_type": "code",
   "execution_count": 4,
   "metadata": {},
   "outputs": [],
   "source": [
    "#kernel=cv2.getStructuringElement(cv2.MORPH_ELLIPSE,(5,5))\n",
    "#cluster_interest=[34,17,32,35,12,49,25,48]# This is the set of clusters prevalent in the footpoints of most RBEs. I have not investigated RREs. Update: added 8 amd 21\n",
    "cluster_interest_blu =[12,49,25,48]\n",
    "master_aux_cube=cluster_mask*0.\n",
    "skel = cluster_mask*0.\n",
    "for clust_index in range(len(cluster_interest_blu)):\n",
    "    master_aux_cube[np.where(cluster_mask == cluster_interest_blu[clust_index])] = 1.\n",
    "for time in range(425):\n",
    "    skel[:,:,time] = skeletonize(master_aux_cube[:,:,time],method='zhang')\n",
    "#labelled_image = label(skel_cube,return_num=True,connectivity=None) #This has issues with cv2.morphologyEx because of the dtype (it is 'int64'). Have to see the accepted formats. \n",
    "#lab=labelled_image[0]# Because this is a tuple.[0] is the array, [1] is the number of labels in the entire time series. "
   ]
  },
  {
   "cell_type": "code",
   "execution_count": 5,
   "metadata": {},
   "outputs": [],
   "source": [
    "labelled_skeleton = label(skel,return_num=True, connectivity=2)"
   ]
  },
  {
   "cell_type": "code",
   "execution_count": 10,
   "metadata": {},
   "outputs": [
    {
     "data": {
      "text/plain": [
       "49721"
      ]
     },
     "execution_count": 10,
     "metadata": {},
     "output_type": "execute_result"
    }
   ],
   "source": [
    "labelled_skeleton[1]"
   ]
  },
  {
   "cell_type": "code",
   "execution_count": 170,
   "metadata": {},
   "outputs": [],
   "source": [
    "#ind=np.unravel_index(np.flatnonzero(np.where(labelled_skeleton[0]==200)),labelled_skeleton[0].shape,order='C')"
   ]
  },
  {
   "cell_type": "code",
   "execution_count": 26,
   "metadata": {
    "collapsed": true,
    "jupyter": {
     "outputs_hidden": true
    }
   },
   "outputs": [
    {
     "name": "stdout",
     "output_type": "stream",
     "text": [
      "0\n",
      "23\n",
      "407\n",
      "454\n",
      "518\n",
      "559\n",
      "849\n",
      "957\n",
      "975\n",
      "1586\n",
      "1617\n",
      "1826\n",
      "1970\n",
      "2020\n",
      "2130\n",
      "2200\n",
      "2306\n",
      "2375\n",
      "2521\n",
      "2586\n",
      "2609\n",
      "2751\n",
      "2837\n",
      "2851\n",
      "3271\n",
      "3350\n",
      "3612\n",
      "4459\n",
      "4771\n",
      "5215\n",
      "5278\n",
      "5386\n",
      "5482\n",
      "5634\n",
      "5655\n",
      "6157\n",
      "6824\n",
      "7148\n",
      "7219\n",
      "7287\n",
      "7420\n",
      "7456\n",
      "7486\n",
      "7537\n",
      "7544\n",
      "7873\n",
      "7901\n",
      "7970\n",
      "8435\n",
      "8615\n",
      "8734\n",
      "8855\n",
      "9210\n",
      "9270\n",
      "9591\n",
      "9712\n",
      "9846\n",
      "9873\n",
      "10207\n",
      "10554\n",
      "10579\n",
      "10964\n",
      "11198\n",
      "11551\n",
      "11569\n",
      "11630\n",
      "11690\n",
      "12165\n",
      "12249\n",
      "12285\n",
      "12549\n",
      "12691\n",
      "13484\n",
      "13608\n",
      "13745\n",
      "13882\n",
      "13948\n",
      "14028\n",
      "14134\n",
      "14391\n",
      "15290\n",
      "15296\n",
      "15327\n",
      "15465\n",
      "15474\n",
      "15689\n",
      "15709\n",
      "15864\n",
      "16098\n",
      "16332\n",
      "16370\n",
      "16413\n",
      "16735\n",
      "16887\n",
      "16895\n",
      "17046\n",
      "17085\n",
      "17187\n",
      "17217\n",
      "17374\n",
      "17500\n",
      "17618\n",
      "17665\n",
      "18045\n",
      "18249\n",
      "18279\n",
      "18286\n",
      "18488\n",
      "18576\n",
      "18654\n",
      "18724\n",
      "19154\n",
      "19238\n",
      "19423\n",
      "19754\n",
      "19899\n",
      "20210\n",
      "20242\n",
      "20411\n",
      "20494\n",
      "20496\n",
      "20582\n",
      "20766\n",
      "21613\n",
      "21628\n",
      "22013\n",
      "22466\n",
      "22673\n",
      "22696\n",
      "22733\n",
      "22824\n",
      "22899\n",
      "22910\n",
      "23035\n",
      "23262\n",
      "23295\n",
      "23326\n",
      "23372\n",
      "23383\n",
      "23440\n",
      "23565\n",
      "23642\n",
      "23875\n",
      "23913\n",
      "24261\n",
      "24388\n",
      "24468\n",
      "24628\n",
      "24635\n",
      "24656\n",
      "24724\n",
      "24823\n",
      "24838\n",
      "24841\n",
      "24923\n",
      "25055\n",
      "25477\n",
      "25676\n",
      "25868\n",
      "26149\n",
      "26219\n",
      "26397\n",
      "26429\n",
      "26880\n",
      "26955\n",
      "26975\n",
      "27032\n",
      "27391\n",
      "28454\n",
      "28774\n",
      "28880\n",
      "28899\n",
      "28963\n",
      "29111\n",
      "29183\n",
      "29741\n",
      "30506\n",
      "30507\n",
      "30524\n",
      "30529\n",
      "30725\n",
      "30770\n",
      "30920\n",
      "30992\n",
      "31076\n",
      "31172\n",
      "31180\n",
      "31204\n",
      "31284\n",
      "31397\n",
      "31467\n",
      "31889\n",
      "31967\n",
      "32278\n",
      "32908\n",
      "32978\n",
      "33028\n",
      "33111\n",
      "33158\n",
      "33225\n",
      "33593\n",
      "33642\n",
      "33774\n",
      "34133\n",
      "34857\n",
      "34889\n",
      "34913\n",
      "35403\n",
      "35411\n",
      "35778\n",
      "35921\n",
      "36047\n",
      "36289\n",
      "36302\n",
      "36309\n",
      "36320\n",
      "36369\n",
      "36371\n",
      "36566\n",
      "36638\n",
      "36654\n",
      "36862\n",
      "37025\n",
      "37150\n",
      "37680\n",
      "37802\n",
      "38252\n",
      "38392\n",
      "38412\n",
      "38515\n",
      "38647\n",
      "38707\n",
      "38749\n",
      "39191\n",
      "39270\n",
      "39473\n",
      "39540\n",
      "40468\n",
      "40563\n",
      "40990\n",
      "41105\n",
      "41693\n",
      "41855\n",
      "42146\n",
      "42763\n",
      "42916\n",
      "43000\n",
      "43605\n",
      "44129\n",
      "44395\n",
      "44728\n",
      "45052\n",
      "45137\n",
      "45336\n",
      "45364\n",
      "45534\n",
      "45633\n",
      "45906\n",
      "46137\n",
      "46393\n",
      "46757\n",
      "46793\n",
      "47140\n",
      "47634\n",
      "47678\n",
      "48006\n",
      "49316\n",
      "49481\n"
     ]
    }
   ],
   "source": [
    "length = np.zeros((labelled_skeleton[1],50))\n",
    "for time in range(1):\n",
    "    for region in regionprops(labelled_skeleton[0][:,:,time]):\n",
    "        lab = region.label-1\n",
    "        length[lab,time]=region.major_axis_length\n",
    "        print(lab)\n",
    "        "
   ]
  },
  {
   "cell_type": "code",
   "execution_count": 24,
   "metadata": {},
   "outputs": [
    {
     "data": {
      "text/plain": [
       "array([[13.80829753, 11.50659509,  9.79941903,  0.        ,  0.        ,\n",
       "         0.        ,  0.        ,  0.        ,  0.        ,  0.        ,\n",
       "         0.        ,  0.        ,  0.        ,  0.        ,  0.        ,\n",
       "         0.        ,  0.        ,  0.        ,  0.        ,  0.        ,\n",
       "         0.        ,  0.        ,  0.        ,  0.        ,  0.        ,\n",
       "         0.        ,  0.        ,  0.        ,  0.        ,  0.        ,\n",
       "         0.        ,  0.        ,  0.        ,  0.        ,  0.        ,\n",
       "         0.        ,  0.        ,  0.        ,  0.        ,  0.        ,\n",
       "         0.        ,  0.        ,  0.        ,  0.        ,  0.        ,\n",
       "         0.        ,  0.        ,  0.        ,  0.        ,  0.        ],\n",
       "       [ 0.        ,  0.        ,  0.        ,  0.        ,  0.        ,\n",
       "         0.        ,  0.        ,  0.        ,  0.        ,  0.        ,\n",
       "         0.        ,  0.        ,  0.        ,  0.        ,  0.        ,\n",
       "         0.        ,  0.        ,  0.        ,  0.        ,  0.        ,\n",
       "         0.        ,  0.        ,  0.        ,  0.        ,  0.        ,\n",
       "         0.        ,  0.        ,  0.        ,  0.        ,  0.        ,\n",
       "         0.        ,  0.        ,  0.        ,  0.        ,  0.        ,\n",
       "         0.        ,  0.        ,  0.        ,  0.        ,  0.        ,\n",
       "         0.        ,  0.        ,  0.        ,  0.        ,  0.        ,\n",
       "         0.        ,  0.        ,  0.        ,  0.        ,  0.        ],\n",
       "       [ 0.        ,  0.        ,  0.        ,  0.        ,  0.        ,\n",
       "         0.        ,  0.        ,  0.        ,  0.        ,  0.        ,\n",
       "         0.        ,  0.        ,  0.        ,  0.        ,  0.        ,\n",
       "         0.        ,  0.        ,  0.        ,  0.        ,  0.        ,\n",
       "         0.        ,  0.        ,  0.        ,  0.        ,  0.        ,\n",
       "         0.        ,  0.        ,  0.        ,  0.        ,  0.        ,\n",
       "         0.        ,  0.        ,  0.        ,  0.        ,  0.        ,\n",
       "         0.        ,  0.        ,  0.        ,  0.        ,  0.        ,\n",
       "         0.        ,  0.        ,  0.        ,  0.        ,  0.        ,\n",
       "         0.        ,  0.        ,  0.        ,  0.        ,  0.        ],\n",
       "       [ 0.        ,  0.        ,  0.        ,  0.        ,  0.        ,\n",
       "         0.        ,  0.        ,  0.        ,  0.        ,  0.        ,\n",
       "         0.        ,  0.        ,  0.        ,  0.        ,  0.        ,\n",
       "         0.        ,  0.        ,  0.        ,  0.        ,  0.        ,\n",
       "         0.        ,  0.        ,  0.        ,  0.        ,  0.        ,\n",
       "         0.        ,  0.        ,  0.        ,  0.        ,  0.        ,\n",
       "         0.        ,  0.        ,  0.        ,  0.        ,  0.        ,\n",
       "         0.        ,  0.        ,  0.        ,  0.        ,  0.        ,\n",
       "         0.        ,  0.        ,  0.        ,  0.        ,  0.        ,\n",
       "         0.        ,  0.        ,  0.        ,  0.        ,  0.        ],\n",
       "       [ 0.        ,  0.        ,  0.        ,  0.        ,  0.        ,\n",
       "         0.        ,  0.        ,  0.        ,  0.        ,  0.        ,\n",
       "         0.        ,  0.        ,  0.        ,  0.        ,  0.        ,\n",
       "         0.        ,  0.        ,  0.        ,  0.        ,  0.        ,\n",
       "         0.        ,  0.        ,  0.        ,  0.        ,  0.        ,\n",
       "         0.        ,  0.        ,  0.        ,  0.        ,  0.        ,\n",
       "         0.        ,  0.        ,  0.        ,  0.        ,  0.        ,\n",
       "         0.        ,  0.        ,  0.        ,  0.        ,  0.        ,\n",
       "         0.        ,  0.        ,  0.        ,  0.        ,  0.        ,\n",
       "         0.        ,  0.        ,  0.        ,  0.        ,  0.        ]])"
      ]
     },
     "execution_count": 24,
     "metadata": {},
     "output_type": "execute_result"
    }
   ],
   "source": [
    "length[:5,:]\n",
    "\n",
    "    \n",
    "    "
   ]
  },
  {
   "cell_type": "code",
   "execution_count": 198,
   "metadata": {},
   "outputs": [],
   "source": [
    "#mask_3d = labelled_skeleton[0]*0.\n",
    "mask_blad =np.where(labelled_skeleton[0]==2000,labelled_skeleton[0],0)"
   ]
  },
  {
   "cell_type": "code",
   "execution_count": 199,
   "metadata": {},
   "outputs": [
    {
     "data": {
      "text/plain": [
       "(1641, 1518, 425)"
      ]
     },
     "execution_count": 199,
     "metadata": {},
     "output_type": "execute_result"
    }
   ],
   "source": [
    "mask_blad.shape"
   ]
  },
  {
   "cell_type": "code",
   "execution_count": 184,
   "metadata": {},
   "outputs": [
    {
     "data": {
      "text/plain": [
       "(1641, 1518, 425)"
      ]
     },
     "execution_count": 184,
     "metadata": {},
     "output_type": "execute_result"
    }
   ],
   "source": [
    "labelled_skeleton[0].shape"
   ]
  },
  {
   "cell_type": "code",
   "execution_count": 178,
   "metadata": {},
   "outputs": [
    {
     "data": {
      "text/plain": [
       "<matplotlib.image.AxesImage at 0x7f17e3457c50>"
      ]
     },
     "execution_count": 178,
     "metadata": {},
     "output_type": "execute_result"
    },
    {
     "data": {
      "image/png": "[encoded data removed]",
      "text/plain": [
       "<Figure size 720x720 with 1 Axes>"
      ]
     },
     "metadata": {
      "needs_background": "light"
     },
     "output_type": "display_data"
    }
   ],
   "source": [
    "plt.figure(figsize=(10,10))\n",
    "plt.imshow(skel_2d,origin='lower'\n",
    "          \n",
    "          \n",
    "          \n",
    "          )"
   ]
  },
  {
   "cell_type": "code",
   "execution_count": 20,
   "metadata": {},
   "outputs": [],
   "source": [
    "mask_2d=test_2d*0.\n",
    "mask_2d[np.where(test_2d!=0)]=1.\n",
    "\n",
    "\n"
   ]
  },
  {
   "cell_type": "code",
   "execution_count": 21,
   "metadata": {},
   "outputs": [
    {
     "data": {
      "text/plain": [
       "<matplotlib.image.AxesImage at 0x7f17dfc8f2b0>"
      ]
     },
     "execution_count": 21,
     "metadata": {},
     "output_type": "execute_result"
    },
    {
     "data": {
      "image/png": "[encoded data removed]",
      "text/plain": [
       "<Figure size 720x720 with 1 Axes>"
      ]
     },
     "metadata": {
      "needs_background": "light"
     },
     "output_type": "display_data"
    }
   ],
   "source": [
    "plt.figure(figsize=(10,10))\n",
    "plt.imshow(mask_2d,origin='lower')"
   ]
  },
  {
   "cell_type": "code",
   "execution_count": 22,
   "metadata": {},
   "outputs": [],
   "source": [
    "skel = skeletonize(mask_2d,method='zhang')\n",
    "med = medial_axis(mask_2d,return_distance=True)"
   ]
  },
  {
   "cell_type": "code",
   "execution_count": 26,
   "metadata": {},
   "outputs": [
    {
     "data": {
      "text/plain": [
       "(1641, 1518)"
      ]
     },
     "execution_count": 26,
     "metadata": {},
     "output_type": "execute_result"
    }
   ],
   "source": [
    "med[0].shape"
   ]
  },
  {
   "cell_type": "code",
   "execution_count": 39,
   "metadata": {},
   "outputs": [
    {
     "data": {
      "text/plain": [
       "<matplotlib.image.AxesImage at 0x7fe20c137b70>"
      ]
     },
     "execution_count": 39,
     "metadata": {},
     "output_type": "execute_result"
    },
    {
     "data": {
      "image/png": "[encoded data removed]",
      "text/plain": [
       "<Figure size 720x720 with 1 Axes>"
      ]
     },
     "metadata": {
      "needs_background": "light"
     },
     "output_type": "display_data"
    }
   ],
   "source": [
    "plt.figure(figsize=(10,10))\n",
    "plt.imshow(skel,origin='lower')"
   ]
  },
  {
   "cell_type": "code",
   "execution_count": 40,
   "metadata": {},
   "outputs": [
    {
     "data": {
      "text/plain": [
       "<matplotlib.image.AxesImage at 0x7fe20bf01898>"
      ]
     },
     "execution_count": 40,
     "metadata": {},
     "output_type": "execute_result"
    },
    {
     "data": {
      "image/png": "[encoded data removed]",
      "text/plain": [
       "<Figure size 720x720 with 1 Axes>"
      ]
     },
     "metadata": {
      "needs_background": "light"
     },
     "output_type": "display_data"
    }
   ],
   "source": [
    "plt.figure(figsize=(10,10))\n",
    "plt.imshow(med[0],origin='lower')"
   ]
  },
  {
   "cell_type": "code",
   "execution_count": 58,
   "metadata": {},
   "outputs": [
    {
     "data": {
      "text/plain": [
       "dtype('bool')"
      ]
     },
     "execution_count": 58,
     "metadata": {},
     "output_type": "execute_result"
    }
   ],
   "source": [
    "np.array(skel).dtype"
   ]
  },
  {
   "cell_type": "code",
   "execution_count": 64,
   "metadata": {},
   "outputs": [
    {
     "ename": "TypeError",
     "evalue": "Expected Ptr<cv::UMat> for argument '%s'",
     "output_type": "error",
     "traceback": [
      "\u001b[0;31m---------------------------------------------------------------------------\u001b[0m",
      "\u001b[0;31mTypeError\u001b[0m                                 Traceback (most recent call last)",
      "\u001b[0;32m<ipython-input-64-7e470e21ff32>\u001b[0m in \u001b[0;36m<module>\u001b[0;34m\u001b[0m\n\u001b[0;32m----> 1\u001b[0;31m \u001b[0mopening\u001b[0m \u001b[0;34m=\u001b[0m \u001b[0mcv2\u001b[0m\u001b[0;34m.\u001b[0m\u001b[0mmorphologyEx\u001b[0m\u001b[0;34m(\u001b[0m\u001b[0mnp\u001b[0m\u001b[0;34m.\u001b[0m\u001b[0marray\u001b[0m\u001b[0;34m(\u001b[0m\u001b[0mskel\u001b[0m\u001b[0;34m)\u001b[0m\u001b[0;34m,\u001b[0m\u001b[0mcv2\u001b[0m\u001b[0;34m.\u001b[0m\u001b[0mMORPH_OPEN\u001b[0m\u001b[0;34m,\u001b[0m\u001b[0mkernel\u001b[0m\u001b[0;34m)\u001b[0m\u001b[0;34m\u001b[0m\u001b[0;34m\u001b[0m\u001b[0m\n\u001b[0m\u001b[1;32m      2\u001b[0m \u001b[0mlab_thin\u001b[0m \u001b[0;34m=\u001b[0m \u001b[0mlabel\u001b[0m\u001b[0;34m(\u001b[0m\u001b[0mopening\u001b[0m\u001b[0;34m,\u001b[0m\u001b[0mconnectivity\u001b[0m\u001b[0;34m=\u001b[0m\u001b[0;32mNone\u001b[0m\u001b[0;34m)\u001b[0m\u001b[0;34m\u001b[0m\u001b[0;34m\u001b[0m\u001b[0m\n",
      "\u001b[0;31mTypeError\u001b[0m: Expected Ptr<cv::UMat> for argument '%s'"
     ]
    }
   ],
   "source": [
    "#Optional step: Where I was tying to \"open\" the skeletonized pixels to improve the connectivity and then label it. Hold for later\\\n",
    "opening = cv2.morphologyEx(np.array(skel),cv2.MORPH_OPEN,kernel)\n",
    "lab_thin = label(opening,connectivity=None)"
   ]
  },
  {
   "cell_type": "code",
   "execution_count": 90,
   "metadata": {},
   "outputs": [],
   "source": [
    "lab_thin = label(mask_2d,connectivity=None)"
   ]
  },
  {
   "cell_type": "code",
   "execution_count": 70,
   "metadata": {},
   "outputs": [],
   "source": [
    "region=regionprops(lab_thin)"
   ]
  },
  {
   "cell_type": "code",
   "execution_count": 74,
   "metadata": {},
   "outputs": [
    {
     "data": {
      "text/plain": [
       "<skimage.measure._regionprops.RegionProperties at 0x7fe60a0ee4a8>"
      ]
     },
     "execution_count": 74,
     "metadata": {},
     "output_type": "execute_result"
    }
   ],
   "source": [
    "region[3]"
   ]
  },
  {
   "cell_type": "code",
   "execution_count": 99,
   "metadata": {},
   "outputs": [],
   "source": [
    "for region in regionprops(lab_thin[600:1000,:400]):\n",
    "    perim= region.perimeter\n",
    "    maj = region.major_axis_length\n",
    "    min_r,min_c,max_r,max_c = region.bbox"
   ]
  },
  {
   "cell_type": "code",
   "execution_count": 76,
   "metadata": {},
   "outputs": [
    {
     "data": {
      "text/plain": [
       "()"
      ]
     },
     "execution_count": 76,
     "metadata": {},
     "output_type": "execute_result"
    }
   ],
   "source": [
    "perim.shape"
   ]
  },
  {
   "cell_type": "code",
   "execution_count": 77,
   "metadata": {},
   "outputs": [
    {
     "data": {
      "text/plain": [
       "6.414213562373095"
      ]
     },
     "execution_count": 77,
     "metadata": {},
     "output_type": "execute_result"
    }
   ],
   "source": [
    "perim\n"
   ]
  },
  {
   "cell_type": "code",
   "execution_count": 78,
   "metadata": {},
   "outputs": [
    {
     "data": {
      "text/plain": [
       "<skimage.measure._regionprops.RegionProperties at 0x7fe609c95a20>"
      ]
     },
     "execution_count": 78,
     "metadata": {},
     "output_type": "execute_result"
    }
   ],
   "source": [
    "min_r,min_c,max_r,max_cregion"
   ]
  },
  {
   "cell_type": "code",
   "execution_count": 79,
   "metadata": {},
   "outputs": [
    {
     "data": {
      "text/plain": [
       "384"
      ]
     },
     "execution_count": 79,
     "metadata": {},
     "output_type": "execute_result"
    }
   ],
   "source": [
    "np.max(lab_thin)"
   ]
  },
  {
   "cell_type": "code",
   "execution_count": 80,
   "metadata": {},
   "outputs": [
    {
     "data": {
      "text/plain": [
       "164.02396"
      ]
     },
     "execution_count": 80,
     "metadata": {},
     "output_type": "execute_result"
    }
   ],
   "source": [
    "0.037*722*6.14"
   ]
  },
  {
   "cell_type": "code",
   "execution_count": 82,
   "metadata": {},
   "outputs": [
    {
     "data": {
      "text/plain": [
       "9.25961033310723"
      ]
     },
     "execution_count": 82,
     "metadata": {},
     "output_type": "execute_result"
    }
   ],
   "source": [
    "maj"
   ]
  },
  {
   "cell_type": "code",
   "execution_count": 85,
   "metadata": {},
   "outputs": [
    {
     "data": {
      "text/plain": [
       "(1471, 912, 1479, 914)"
      ]
     },
     "execution_count": 85,
     "metadata": {},
     "output_type": "execute_result"
    }
   ],
   "source": [
    "min_r,min_c,max_r,max_c"
   ]
  },
  {
   "cell_type": "code",
   "execution_count": 86,
   "metadata": {},
   "outputs": [
    {
     "data": {
      "text/plain": [
       "8.246211251235321"
      ]
     },
     "execution_count": 86,
     "metadata": {},
     "output_type": "execute_result"
    }
   ],
   "source": [
    "np.sqrt((min_r-max_r)**2+(min_c-max_c)**2)"
   ]
  },
  {
   "cell_type": "code",
   "execution_count": 88,
   "metadata": {},
   "outputs": [
    {
     "data": {
      "text/plain": [
       "53.279999999999994"
      ]
     },
     "execution_count": 88,
     "metadata": {},
     "output_type": "execute_result"
    }
   ],
   "source": [
    "0.037*720*2"
   ]
  },
  {
   "cell_type": "code",
   "execution_count": 95,
   "metadata": {},
   "outputs": [
    {
     "data": {
      "text/plain": [
       "(1471, 912, 1480, 915)"
      ]
     },
     "execution_count": 95,
     "metadata": {},
     "output_type": "execute_result"
    }
   ],
   "source": [
    "min_r,min_c,max_r,max_c"
   ]
  },
  {
   "cell_type": "code",
   "execution_count": 96,
   "metadata": {},
   "outputs": [
    {
     "data": {
      "text/plain": [
       "16.621320343559642"
      ]
     },
     "execution_count": 96,
     "metadata": {},
     "output_type": "execute_result"
    }
   ],
   "source": [
    "perim"
   ]
  },
  {
   "cell_type": "code",
   "execution_count": 100,
   "metadata": {},
   "outputs": [
    {
     "data": {
      "text/plain": [
       "(322, 360, 323, 361)"
      ]
     },
     "execution_count": 100,
     "metadata": {},
     "output_type": "execute_result"
    }
   ],
   "source": [
    "min_r,min_c,max_r,max_c"
   ]
  },
  {
   "cell_type": "code",
   "execution_count": 13,
   "metadata": {},
   "outputs": [
    {
     "data": {
      "text/plain": [
       "<matplotlib.image.AxesImage at 0x7f31eb1bb240>"
      ]
     },
     "execution_count": 13,
     "metadata": {},
     "output_type": "execute_result"
    },
    {
     "data": {
      "image/png": "[encoded data removed]",
      "text/plain": [
       "<Figure size 432x288 with 1 Axes>"
      ]
     },
     "metadata": {
      "needs_background": "light"
     },
     "output_type": "display_data"
    }
   ],
   "source": [
    "\n",
    "\n",
    "plt.imshow(lab[600:1000,:400,165])"
   ]
  },
  {
   "cell_type": "code",
   "execution_count": 29,
   "metadata": {},
   "outputs": [
    {
     "name": "stdout",
     "output_type": "stream",
     "text": [
      "8.418433874700582\n",
      "9971\n",
      "18.312848142379824\n",
      "12963\n",
      "8.781594210901158\n",
      "13424\n",
      "4.0\n",
      "13464\n",
      "5.98519101111981\n",
      "13473\n",
      "3.23606797749979\n",
      "13715\n",
      "3.1269438398822857\n",
      "13879\n",
      "4.09878030638384\n",
      "14205\n",
      "15.002144755828056\n",
      "14457\n",
      "25.860464320128568\n",
      "14600\n",
      "44.593606987048794\n",
      "14972\n",
      "144.44143224998024\n",
      "15207\n",
      "3.098386676965933\n",
      "15932\n",
      "68.45158656416743\n",
      "16862\n",
      "66.25348049664629\n",
      "17910\n",
      "62.662723472312145\n",
      "17974\n",
      "2.0\n",
      "18368\n",
      "2.0\n",
      "18914\n",
      "0.0\n",
      "19154\n",
      "0.0\n",
      "19226\n",
      "0.0\n",
      "19354\n",
      "15.098906049468072\n",
      "19729\n",
      "59.013105889839665\n",
      "21419\n",
      "17.422423296005345\n",
      "21891\n",
      "15.487224124920923\n",
      "24260\n"
     ]
    },
    {
     "data": {
      "image/png": "[encoded data removed]",
      "text/plain": [
       "<Figure size 720x720 with 1 Axes>"
      ]
     },
     "metadata": {
      "needs_background": "light"
     },
     "output_type": "display_data"
    }
   ],
   "source": [
    "import matplotlib.patches as mpatches\n",
    "fig, ax = plt.subplots(figsize=(10, 10))\n",
    "ax.imshow(lab[600:1000,:400,200])\n",
    "for region in regionprops(lab[600:1000,:400,200]):\n",
    "        minr, minc, maxr, maxc = region.bbox\n",
    "        rect = mpatches.Rectangle((minc, minr), maxc - minc, maxr - minr,\n",
    "                                  fill=False, edgecolor='red', linewidth=2)\n",
    "        ax.add_patch(rect)\n",
    "        print(region.major_axis_length)\n",
    "        print(region.label)\n",
    " \n"
   ]
  },
  {
   "cell_type": "code",
   "execution_count": 26,
   "metadata": {},
   "outputs": [
    {
     "data": {
      "text/plain": [
       "<matplotlib.image.AxesImage at 0x7f31ed7324a8>"
      ]
     },
     "execution_count": 26,
     "metadata": {},
     "output_type": "execute_result"
    },
    {
     "data": {
      "image/png": "[encoded data removed]",
      "text/plain": [
       "<Figure size 720x720 with 1 Axes>"
      ]
     },
     "metadata": {
      "needs_background": "light"
     },
     "output_type": "display_data"
    }
   ],
   "source": [
    "plt.figure(figsize=(10,10))\n",
    "plt.imshow(skel[600:1000,:400])"
   ]
  },
  {
   "cell_type": "code",
   "execution_count": 12,
   "metadata": {},
   "outputs": [],
   "source": [
    "lab_thin = label(skel,connectivity=None)"
   ]
  },
  {
   "cell_type": "code",
   "execution_count": 28,
   "metadata": {},
   "outputs": [
    {
     "name": "stdout",
     "output_type": "stream",
     "text": [
      "8.229060423569024\n",
      "131\n",
      "17.864841538228276\n",
      "154\n",
      "8.31030465222833\n",
      "159\n",
      "5.23606797749979\n",
      "160\n",
      "3.677088528342677\n",
      "162\n",
      "3.677088528342677\n",
      "166\n",
      "2.8284271247461903\n",
      "168\n",
      "2.0\n",
      "174\n",
      "15.119569253866901\n",
      "180\n",
      "68.11853087151188\n",
      "192\n",
      "2.8284271247461903\n",
      "199\n",
      "84.28007631734187\n",
      "200\n",
      "70.26735650872592\n",
      "221\n",
      "52.88382126976026\n",
      "226\n",
      "2.0\n",
      "232\n",
      "55.39322453988859\n",
      "237\n",
      "3.265986323710904\n",
      "240\n",
      "25.32669203377906\n",
      "241\n",
      "2.0\n",
      "242\n",
      "0.0\n",
      "244\n",
      "0.0\n",
      "246\n",
      "64.9428050536385\n",
      "247\n",
      "0.0\n",
      "248\n",
      "9.241607935910793\n",
      "251\n",
      "15.624461967157604\n",
      "255\n",
      "2.0\n",
      "257\n",
      "77.2657473054963\n",
      "258\n",
      "17.409637795436964\n",
      "281\n",
      "64.69166336734796\n",
      "287\n",
      "16.46748256643782\n",
      "302\n"
     ]
    },
    {
     "data": {
      "image/png": "[encoded data removed]",
      "text/plain": [
       "<Figure size 720x720 with 1 Axes>"
      ]
     },
     "metadata": {
      "needs_background": "light"
     },
     "output_type": "display_data"
    }
   ],
   "source": [
    "import matplotlib.patches as mpatches\n",
    "fig, ax = plt.subplots(figsize=(10, 10))\n",
    "ax.imshow(lab_thin[600:1000,:400])\n",
    "for region in regionprops(lab_thin[600:1000,:400]):\n",
    "        minr, minc, maxr, maxc = region.bbox\n",
    "        rect = mpatches.Rectangle((minc, minr), maxc - minc, maxr - minr,\n",
    "                                  fill=False, edgecolor='red', linewidth=2)\n",
    "        ax.add_patch(rect)\n",
    "        print(region.major_axis_length)\n",
    "        print(region.label)\n",
    "       # print(region.coords)\n",
    "\n"
   ]
  },
  {
   "cell_type": "code",
   "execution_count": 29,
   "metadata": {},
   "outputs": [
    {
     "data": {
      "text/plain": [
       "<matplotlib.image.AxesImage at 0x7f31ed21e518>"
      ]
     },
     "execution_count": 29,
     "metadata": {},
     "output_type": "execute_result"
    },
    {
     "data": {
      "image/png": "[encoded data removed]",
      "text/plain": [
       "<Figure size 720x720 with 1 Axes>"
      ]
     },
     "metadata": {
      "needs_background": "light"
     },
     "output_type": "display_data"
    }
   ],
   "source": [
    "plt.figure(figsize=(10,10))\n",
    "plt.imshow(med[1][600:1000,:400])"
   ]
  },
  {
   "cell_type": "code",
   "execution_count": 15,
   "metadata": {},
   "outputs": [
    {
     "data": {
      "text/plain": [
       "array([[322, 360]])"
      ]
     },
     "execution_count": 15,
     "metadata": {},
     "output_type": "execute_result"
    }
   ],
   "source": [
    "coords_all\n"
   ]
  },
  {
   "cell_type": "code",
   "execution_count": 23,
   "metadata": {},
   "outputs": [],
   "source": [
    "lab_thin = label(skel,connectivity=None)"
   ]
  },
  {
   "cell_type": "code",
   "execution_count": 24,
   "metadata": {},
   "outputs": [
    {
     "data": {
      "image/png": "[encoded data removed]",
      "text/plain": [
       "<Figure size 720x720 with 1 Axes>"
      ]
     },
     "metadata": {
      "needs_background": "light"
     },
     "output_type": "display_data"
    }
   ],
   "source": [
    "import matplotlib.patches as mpatches\n",
    "fig, ax = plt.subplots(figsize=(10, 10))\n",
    "ax.imshow(lab_thin[600:1000,:400])\n",
    "for region in regionprops(lab_thin[600:1000,:400]):\n",
    "        minr, minc, maxr, maxc = region.bbox\n",
    "        rect = mpatches.Rectangle((minc, minr), maxc - minc, maxr - minr,\n",
    "                                  fill=False, edgecolor='red', linewidth=2)\n",
    "        ax.add_patch(rect)\n",
    "       # print(region.coords)\n",
    "\n"
   ]
  },
  {
   "cell_type": "code",
   "execution_count": 26,
   "metadata": {},
   "outputs": [
    {
     "data": {
      "text/plain": [
       "<matplotlib.image.AxesImage at 0x7f17e0a0b828>"
      ]
     },
     "execution_count": 26,
     "metadata": {},
     "output_type": "execute_result"
    },
    {
     "data": {
      "image/png": "[encoded data removed]",
      "text/plain": [
       "<Figure size 720x720 with 1 Axes>"
      ]
     },
     "metadata": {
      "needs_background": "light"
     },
     "output_type": "display_data"
    }
   ],
   "source": [
    "plt.figure(figsize=(10,10))\n",
    "plt.imshow(mask_2d[600:1000,:400])"
   ]
  },
  {
   "cell_type": "code",
   "execution_count": null,
   "metadata": {},
   "outputs": [],
   "source": [
    "\n",
    "\n",
    "\n",
    "\n"
   ]
  }
 ],
 "metadata": {
  "kernelspec": {
   "display_name": "Python 3",
   "language": "python",
   "name": "python3"
  },
  "language_info": {
   "codemirror_mode": {
    "name": "ipython",
    "version": 3
   },
   "file_extension": ".py",
   "mimetype": "text/x-python",
   "name": "python",
   "nbconvert_exporter": "python",
   "pygments_lexer": "ipython3",
   "version": "3.7.3"
  }
 },
 "nbformat": 4,
 "nbformat_minor": 4
}
